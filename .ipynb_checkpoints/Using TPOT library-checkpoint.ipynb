{
 "cells": [
  {
   "cell_type": "code",
   "execution_count": 43,
   "id": "f068400d",
   "metadata": {},
   "outputs": [],
   "source": [
    "#pip install TPOT"
   ]
  },
  {
   "cell_type": "code",
   "execution_count": 44,
   "id": "c197876d",
   "metadata": {},
   "outputs": [],
   "source": [
    "from sklearn import preprocessing"
   ]
  },
  {
   "cell_type": "code",
   "execution_count": 45,
   "id": "ecde0e4f",
   "metadata": {},
   "outputs": [],
   "source": [
    "import pandas as pd\n",
    "import numpy as np"
   ]
  },
  {
   "cell_type": "code",
   "execution_count": 46,
   "id": "f4a73efc",
   "metadata": {},
   "outputs": [],
   "source": [
    "from tpot import TPOTRegressor"
   ]
  },
  {
   "cell_type": "code",
   "execution_count": 47,
   "id": "d9a515d5",
   "metadata": {},
   "outputs": [],
   "source": [
    "from sklearn.model_selection import train_test_split"
   ]
  },
  {
   "cell_type": "code",
   "execution_count": 76,
   "id": "dcf89398",
   "metadata": {},
   "outputs": [],
   "source": [
    "X_traina = np.load('X_train.npy')\n",
    "y_traina = np.load('y_train.npy')\n",
    "X_testa = np.load('X_test.npy')\n",
    "y_testa = np.load('y_test.npy')"
   ]
  },
  {
   "cell_type": "code",
   "execution_count": null,
   "id": "fb0cda20",
   "metadata": {},
   "outputs": [],
   "source": []
  },
  {
   "cell_type": "code",
   "execution_count": 77,
   "id": "e179deb0",
   "metadata": {},
   "outputs": [],
   "source": [
    "X_train, X_test, y_train, y_test = train_test_split(\n",
    "...     X_traina, y_traina, test_size=0.25, random_state=0)"
   ]
  },
  {
   "cell_type": "code",
   "execution_count": 50,
   "id": "99567178",
   "metadata": {},
   "outputs": [],
   "source": [
    "# Create a tpot object with a few parameters\n",
    "# This is just a prove, we have to modify the generation and the population size later \n",
    "tpot = TPOTRegressor(scoring = 'neg_mean_absolute_error',\n",
    "                    periodic_checkpoint_folder=\"tpot_mnst1.txt\",\n",
    "                    random_state=40,\n",
    "                    max_time_mins = 480, \n",
    "                    n_jobs = -1,\n",
    "                    verbosity = 2,\n",
    "                    generations=20,\n",
    "                    population_size=100,\n",
    "                    cv = 5)"
   ]
  },
  {
   "cell_type": "code",
   "execution_count": 51,
   "id": "f9812415",
   "metadata": {},
   "outputs": [
    {
     "data": {
      "application/vnd.jupyter.widget-view+json": {
       "model_id": "",
       "version_major": 2,
       "version_minor": 0
      },
      "text/plain": [
       "Optimization Progress:   0%|          | 0/100 [00:00<?, ?pipeline/s]"
      ]
     },
     "metadata": {},
     "output_type": "display_data"
    },
    {
     "name": "stdout",
     "output_type": "stream",
     "text": [
      "\n",
      "Generation 1 - Current best internal CV score: -0.10706350379252258\n",
      "\n",
      "Generation 2 - Current best internal CV score: -0.10706350379252258\n",
      "\n",
      "Generation 3 - Current best internal CV score: -0.10706350379252258\n",
      "\n",
      "Generation 4 - Current best internal CV score: -0.10706350379252258\n",
      "\n",
      "Generation 5 - Current best internal CV score: -0.10706350379252258\n",
      "\n",
      "Generation 6 - Current best internal CV score: -0.10706222353937196\n",
      "\n",
      "Generation 7 - Current best internal CV score: -0.10672805276985708\n",
      "\n",
      "Generation 8 - Current best internal CV score: -0.10672805276985708\n",
      "\n",
      "Generation 9 - Current best internal CV score: -0.10672805276985708\n",
      "\n",
      "Generation 10 - Current best internal CV score: -0.10672805276985708\n",
      "\n",
      "Generation 11 - Current best internal CV score: -0.10672805276985708\n",
      "\n",
      "Generation 12 - Current best internal CV score: -0.10672805276985708\n",
      "\n",
      "Generation 13 - Current best internal CV score: -0.10672805276985708\n",
      "\n",
      "Generation 14 - Current best internal CV score: -0.10672680253157281\n",
      "\n",
      "Generation 15 - Current best internal CV score: -0.10672628882263195\n",
      "\n",
      "Generation 16 - Current best internal CV score: -0.10665841544795492\n",
      "\n",
      "Generation 17 - Current best internal CV score: -0.10665442685140888\n",
      "\n",
      "Generation 18 - Current best internal CV score: -0.10665442685140888\n",
      "\n",
      "Generation 19 - Current best internal CV score: -0.10665442685140888\n",
      "\n",
      "Generation 20 - Current best internal CV score: -0.1063395350637311\n",
      "\n",
      "Best pipeline: LinearSVR(Binarizer(VarianceThreshold(MaxAbsScaler(SelectPercentile(input_matrix, percentile=18)), threshold=0.001), threshold=0.9), C=10.0, dual=True, epsilon=0.0001, loss=epsilon_insensitive, tol=0.0001)\n"
     ]
    },
    {
     "data": {
      "text/plain": [
       "TPOTRegressor(generations=20, max_time_mins=480, n_jobs=-1,\n",
       "              periodic_checkpoint_folder='tpot_mnst1.txt', random_state=40,\n",
       "              scoring='neg_mean_absolute_error', verbosity=2)"
      ]
     },
     "execution_count": 51,
     "metadata": {},
     "output_type": "execute_result"
    }
   ],
   "source": [
    "tpot.fit(X_train, y_train)"
   ]
  },
  {
   "cell_type": "code",
   "execution_count": 52,
   "id": "b816d251",
   "metadata": {},
   "outputs": [
    {
     "name": "stdout",
     "output_type": "stream",
     "text": [
      "Pipeline(steps=[('selectpercentile',\n",
      "                 SelectPercentile(percentile=18,\n",
      "                                  score_func=<function f_regression at 0x00000275C9199940>)),\n",
      "                ('maxabsscaler', MaxAbsScaler()),\n",
      "                ('variancethreshold', VarianceThreshold(threshold=0.001)),\n",
      "                ('binarizer', Binarizer(threshold=0.9)),\n",
      "                ('linearsvr',\n",
      "                 LinearSVR(C=10.0, epsilon=0.0001, random_state=40))])\n"
     ]
    }
   ],
   "source": [
    "# Show the final model\n",
    "print(tpot.fitted_pipeline_)"
   ]
  },
  {
   "cell_type": "code",
   "execution_count": 61,
   "id": "596fba07",
   "metadata": {},
   "outputs": [],
   "source": [
    "# Export the pipeline as a python script file\n",
    "tpot.export('tpot_exported_pipeline.py')"
   ]
  },
  {
   "cell_type": "code",
   "execution_count": 80,
   "id": "de5baa56",
   "metadata": {},
   "outputs": [
    {
     "name": "stderr",
     "output_type": "stream",
     "text": [
      "C:\\Users\\HP\\anaconda3\\lib\\site-packages\\sklearn\\svm\\_base.py:985: ConvergenceWarning: Liblinear failed to converge, increase the number of iterations.\n",
      "  warnings.warn(\"Liblinear failed to converge, increase \"\n"
     ]
    }
   ],
   "source": [
    "# %load tpot_exported_pipeline.py\n",
    "import numpy as np\n",
    "import pandas as pd\n",
    "from sklearn.feature_selection import SelectPercentile, VarianceThreshold, f_regression\n",
    "from sklearn.model_selection import train_test_split\n",
    "from sklearn.pipeline import make_pipeline\n",
    "from sklearn.preprocessing import Binarizer, MaxAbsScaler\n",
    "from sklearn.svm import LinearSVR\n",
    "from tpot.export_utils import set_param_recursive\n",
    "\n",
    "# NOTE: Make sure that the outcome column is labeled 'target' in the data file\n",
    "#tpot_data = pd.read_csv('PATH/TO/DATA/FILE', sep='COLUMN_SEPARATOR', dtype=np.float64)\n",
    "#features = X_train.drop('target', axis=1)\n",
    "#training_features, testing_features, training_target, testing_target = \\\n",
    "#            train_test_split(features, y_train, random_state=40)\n",
    "\n",
    "# Average CV score on the training set was: -0.1063395350637311\n",
    "exported_pipeline = make_pipeline(\n",
    "    SelectPercentile(score_func=f_regression, percentile=18),\n",
    "    MaxAbsScaler(),\n",
    "    VarianceThreshold(threshold=0.001),\n",
    "    Binarizer(threshold=0.9),\n",
    "    LinearSVR(C=10.0, dual=True, epsilon=0.0001, loss=\"epsilon_insensitive\", tol=0.0001)\n",
    ")\n",
    "# Fix random state for all the steps in exported pipeline\n",
    "set_param_recursive(exported_pipeline.steps, 'random_state', 40)\n",
    "\n",
    "exported_pipeline.fit(X_train, y_train)\n",
    "results = exported_pipeline.predict(X_test)\n"
   ]
  },
  {
   "cell_type": "code",
   "execution_count": 56,
   "id": "a4b916f3",
   "metadata": {},
   "outputs": [],
   "source": [
    "# Import file management\n",
    "#from google.colab import file\n",
    "\n",
    "# Download the pipeline for local use\n",
    "#files.download('tpot_exported_pipeline.py')"
   ]
  },
  {
   "cell_type": "code",
   "execution_count": null,
   "id": "d5c711c3",
   "metadata": {},
   "outputs": [],
   "source": [
    "# Esto imprime los piplines pero cuidado, va a haber muchos\n",
    "# To examine all fitted models\n",
    "# tpot.evaluated_individuals_"
   ]
  },
  {
   "cell_type": "code",
   "execution_count": 81,
   "id": "7565006e",
   "metadata": {},
   "outputs": [
    {
     "name": "stdout",
     "output_type": "stream",
     "text": [
      "-0.11594887033883769\n"
     ]
    }
   ],
   "source": [
    "# Evaluate the final model\n",
    "print(tpot.score(X_test, y_test))"
   ]
  },
  {
   "cell_type": "code",
   "execution_count": 82,
   "id": "b81dec5d",
   "metadata": {},
   "outputs": [
    {
     "name": "stderr",
     "output_type": "stream",
     "text": [
      "C:\\Users\\HP\\anaconda3\\lib\\site-packages\\sklearn\\svm\\_base.py:985: ConvergenceWarning: Liblinear failed to converge, increase the number of iterations.\n",
      "  warnings.warn(\"Liblinear failed to converge, increase \"\n"
     ]
    },
    {
     "data": {
      "text/plain": [
       "Pipeline(steps=[('selectpercentile',\n",
       "                 SelectPercentile(percentile=18,\n",
       "                                  score_func=<function f_regression at 0x00000275C9199940>)),\n",
       "                ('maxabsscaler', MaxAbsScaler()),\n",
       "                ('variancethreshold', VarianceThreshold(threshold=0.001)),\n",
       "                ('binarizer', Binarizer(threshold=0.9)),\n",
       "                ('linearsvr',\n",
       "                 LinearSVR(C=10.0, epsilon=0.0001, random_state=40))])"
      ]
     },
     "execution_count": 82,
     "metadata": {},
     "output_type": "execute_result"
    }
   ],
   "source": [
    "# Fit on the training data\n",
    "exported_pipeline.fit(X_train, y_train)"
   ]
  },
  {
   "cell_type": "code",
   "execution_count": 111,
   "id": "285a9270",
   "metadata": {},
   "outputs": [
    {
     "name": "stdout",
     "output_type": "stream",
     "text": [
      "Mean Absolute Error = 0.1159\n"
     ]
    }
   ],
   "source": [
    "# Make predictions on the testing data\n",
    "predictions = exported_pipeline.predict(X_test)\n",
    "\n",
    "print('Mean Absolute Error = %0.4f' % np.mean(abs(predictions - y_test)))"
   ]
  },
  {
   "cell_type": "code",
   "execution_count": 85,
   "id": "a06ee1b5",
   "metadata": {},
   "outputs": [],
   "source": [
    "from sklearn import metrics"
   ]
  },
  {
   "cell_type": "code",
   "execution_count": 92,
   "id": "da006e1f",
   "metadata": {},
   "outputs": [],
   "source": [
    "prediction=predictions>0.5"
   ]
  },
  {
   "cell_type": "code",
   "execution_count": 113,
   "id": "b483fad0",
   "metadata": {},
   "outputs": [
    {
     "data": {
      "text/plain": [
       "array([[693,  14],\n",
       "       [ 78,   9]], dtype=int64)"
      ]
     },
     "execution_count": 113,
     "metadata": {},
     "output_type": "execute_result"
    }
   ],
   "source": [
    "cnf_matrix = metrics.confusion_matrix(y_test, prediction)\n",
    "cnf_matrix"
   ]
  },
  {
   "cell_type": "code",
   "execution_count": 94,
   "id": "a6bbe213",
   "metadata": {},
   "outputs": [],
   "source": [
    "import matplotlib.pyplot as plt\n",
    "import seaborn as sns\n",
    "%matplotlib inline"
   ]
  },
  {
   "cell_type": "code",
   "execution_count": 114,
   "id": "10854b09",
   "metadata": {},
   "outputs": [
    {
     "data": {
      "text/plain": [
       "Text(0.5, 257.44, 'Predicted label')"
      ]
     },
     "execution_count": 114,
     "metadata": {},
     "output_type": "execute_result"
    },
    {
     "data": {
      "image/png": "[encoded data removed]",
      "text/plain": [
       "<Figure size 432x288 with 2 Axes>"
      ]
     },
     "metadata": {
      "needs_background": "light"
     },
     "output_type": "display_data"
    }
   ],
   "source": [
    "class_names=[0,1] # name  of classes\n",
    "fig, ax = plt.subplots()\n",
    "tick_marks = np.arange(len(class_names))\n",
    "plt.xticks(tick_marks, class_names)\n",
    "plt.yticks(tick_marks, class_names)\n",
    "# create heatmap\n",
    "sns.heatmap(pd.DataFrame(cnf_matrix), annot=True, cmap=\"YlGnBu\" ,fmt='g')\n",
    "ax.xaxis.set_label_position(\"top\")\n",
    "plt.tight_layout()\n",
    "plt.title('Confusion matrix', y=1.1)\n",
    "plt.ylabel('Actual label')\n",
    "plt.xlabel('Predicted label')"
   ]
  },
  {
   "cell_type": "code",
   "execution_count": 115,
   "id": "ae76399c",
   "metadata": {},
   "outputs": [
    {
     "name": "stdout",
     "output_type": "stream",
     "text": [
      "Accuracy: 0.8841309823677582\n",
      "Precision: 0.391304347826087\n",
      "Recall: 0.10344827586206896\n"
     ]
    }
   ],
   "source": [
    "print(\"Accuracy:\",metrics.accuracy_score(y_test, prediction))\n",
    "print(\"Precision:\",metrics.precision_score(y_test, prediction))\n",
    "print(\"Recall:\",metrics.recall_score(y_test, prediction))"
   ]
  },
  {
   "cell_type": "code",
   "execution_count": null,
   "id": "633b1e05",
   "metadata": {},
   "outputs": [],
   "source": []
  },
  {
   "cell_type": "code",
   "execution_count": 116,
   "id": "1444ab19",
   "metadata": {},
   "outputs": [
    {
     "data": {
      "image/png": "[encoded data removed]",
      "text/plain": [
       "<Figure size 432x288 with 1 Axes>"
      ]
     },
     "metadata": {
      "needs_background": "light"
     },
     "output_type": "display_data"
    }
   ],
   "source": [
    "y_pred_proba =  predictionss#exported_pipeline.predict(X_test)\n",
    "fpr, tpr, _ = metrics.roc_curve(y_test,  y_pred_proba)\n",
    "auc = metrics.roc_auc_score(y_test, y_pred_proba)\n",
    "plt.plot(fpr,tpr,label=\"data 1, auc=\"+str(auc))\n",
    "plt.legend(loc=4)\n",
    "plt.show()"
   ]
  },
  {
   "cell_type": "code",
   "execution_count": null,
   "id": "ef87cdb5",
   "metadata": {},
   "outputs": [],
   "source": []
  }
 ],
 "metadata": {
  "kernelspec": {
   "display_name": "Python 3",
   "language": "python",
   "name": "python3"
  },
  "language_info": {
   "codemirror_mode": {
    "name": "ipython",
    "version": 3
   },
   "file_extension": ".py",
   "mimetype": "text/x-python",
   "name": "python",
   "nbconvert_exporter": "python",
   "pygments_lexer": "ipython3",
   "version": "3.8.8"
  }
 },
 "nbformat": 4,
 "nbformat_minor": 5
}
