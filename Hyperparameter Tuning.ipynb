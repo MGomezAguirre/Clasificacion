{
 "cells": [
  {
   "cell_type": "markdown",
   "id": "7a0b1b82",
   "metadata": {},
   "source": [
    "SVM"
   ]
  },
  {
   "cell_type": "markdown",
   "id": "fcf16964",
   "metadata": {},
   "source": [
    "Correr con todos los parámetros tarda muchísimo, por eso se recomienda utilizar colab de google"
   ]
  },
  {
   "cell_type": "code",
   "execution_count": 6,
   "id": "7096eb53",
   "metadata": {},
   "outputs": [],
   "source": [
    "import numpy as np"
   ]
  },
  {
   "cell_type": "code",
   "execution_count": 7,
   "id": "fc3bdddf",
   "metadata": {},
   "outputs": [],
   "source": [
    "X_train = np.load('X_train.npy')\n",
    "y_train = np.load('y_train.npy')\n",
    "X_test = np.load('X_test.npy')\n",
    "y_test = np.load('y_test.npy')"
   ]
  },
  {
   "cell_type": "code",
   "execution_count": null,
   "id": "a92c6d95",
   "metadata": {},
   "outputs": [],
   "source": [
    "from sklearn.model_selection import GridSearchCV"
   ]
  },
  {
   "cell_type": "code",
   "execution_count": null,
   "id": "0346e7e6",
   "metadata": {},
   "outputs": [],
   "source": [
    "svc_params = {'C': [10000],\n",
    "             'kernel': ['linear', 'poly', 'rbf', 'sigmoid'],\n",
    "             'degree': [2,3,4]\n",
    "            }\n",
    "svc = svm.SVC()\n",
    "model_svc = GridSearchCV(svc, \n",
    "                        param_grid = svc_params,  \n",
    "                        scoring = 'accuracy')\n",
    "\n",
    "model_svc.fit(X, y)\n"
   ]
  },
  {
   "cell_type": "code",
   "execution_count": null,
   "id": "0f2ef20f",
   "metadata": {},
   "outputs": [],
   "source": [
    "modelos_svc = pd.DataFrame(model_svc.cv_results_)\n",
    "modelos_svc = modelos_lg.sort_values('rank_test_score',ascending=True).head()\n",
    "modelos_svc"
   ]
  },
  {
   "cell_type": "code",
   "execution_count": null,
   "id": "1974d204",
   "metadata": {},
   "outputs": [],
   "source": []
  },
  {
   "cell_type": "code",
   "execution_count": null,
   "id": "9d6583fe",
   "metadata": {},
   "outputs": [],
   "source": []
  }
 ],
 "metadata": {
  "kernelspec": {
   "display_name": "Python 3",
   "language": "python",
   "name": "python3"
  },
  "language_info": {
   "codemirror_mode": {
    "name": "ipython",
    "version": 3
   },
   "file_extension": ".py",
   "mimetype": "text/x-python",
   "name": "python",
   "nbconvert_exporter": "python",
   "pygments_lexer": "ipython3",
   "version": "3.8.8"
  }
 },
 "nbformat": 4,
 "nbformat_minor": 5
}
